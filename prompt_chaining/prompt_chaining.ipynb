{
 "cells": [
  {
   "cell_type": "code",
   "execution_count": null,
   "metadata": {},
   "outputs": [],
   "source": [
    "! pip install langchain_core langchain_openai langgraph"
   ]
  },
  {
   "cell_type": "code",
   "execution_count": 9,
   "metadata": {},
   "outputs": [],
   "source": [
    "import os, getpass\n",
    "def set_env(key: str,env_var_name: str):\n",
    "    os.environ[env_var_name] = key\n",
    "\n",
    "api_key = getpass.getpass(\"Enter your OpenAI API Key: \")\n",
    "set_env(api_key, \"OPENAI_API_KEY\")"
   ]
  },
  {
   "cell_type": "code",
   "execution_count": 10,
   "metadata": {},
   "outputs": [],
   "source": [
    "#configuring llm\n",
    "from langchain_openai import ChatOpenAI\n",
    "model = ChatOpenAI(model='gpt-4o-2024-08-06', api_key=api_key)"
   ]
  },
  {
   "cell_type": "code",
   "execution_count": 20,
   "metadata": {},
   "outputs": [
    {
     "name": "stdout",
     "output_type": "stream",
     "text": [
      "query='(2 + 5) * 3' justification=\"To find the value of the given expression, we first perform the addition inside the parentheses and then multiply the result by 3.\\\\n\\\\nLet's break down the computation step-by-step:\\\\n1. **Addition Step:**\\\\n   - Add the numbers inside the parentheses (2 + 5):\\\\n   - 2 + 5 = 7\\\\n\\\\n2. **Multiplication Step:**\\\\n   - Multiply the result from the addition by 3:\\\\n   - 7 * 3 = 21\\\\n\\\\nTherefore, the final result of the expression is 21.\"\n",
      "(2 + 5) * 3\n",
      "To find the value of the given expression, we first perform the addition inside the parentheses and then multiply the result by 3.\\n\\nLet's break down the computation step-by-step:\\n1. **Addition Step:**\\n   - Add the numbers inside the parentheses (2 + 5):\\n   - 2 + 5 = 7\\n\\n2. **Multiplication Step:**\\n   - Multiply the result from the addition by 3:\\n   - 7 * 3 = 21\\n\\nTherefore, the final result of the expression is 21.\n"
     ]
    }
   ],
   "source": [
    "#aumenting LLM : preparing the llm in the way it will be used. (example - fine tuning, structured output , system prompt etc)\n",
    "#example: I need to have structured output , i will augment the llm to return structured output\n",
    "from pydantic import BaseModel,Field\n",
    "class search_input(BaseModel):\n",
    "    query: str = Field(None,title=\"mathematical expression that will be used to search for the answer\")\n",
    "    justification: str = Field(None,title=\"justification for the answer\")\n",
    "    \n",
    "structured_llm=model.with_structured_output(search_input)\n",
    "\n",
    "output = structured_llm.invoke(\"what is the value of 2 added with 5 then the result is multiplied by 3\")\n",
    "print(output)\n",
    "print(output.query)\n",
    "print(output.justification)"
   ]
  },
  {
   "cell_type": "code",
   "execution_count": 25,
   "metadata": {},
   "outputs": [
    {
     "name": "stdout",
     "output_type": "stream",
     "text": [
      "[{'name': 'addition', 'args': {'a': 2, 'b': 5}, 'id': 'call_pxLQeVi8K7kiBXLywWOjnZDP', 'type': 'tool_call'}, {'name': 'multiplication', 'args': {'a': 7, 'b': 3}, 'id': 'call_s6osIJH2Lfzsg3RbcKgp2jyZ', 'type': 'tool_call'}]\n"
     ]
    }
   ],
   "source": [
    "def addition(a:int,b:int):\n",
    "    return a+b\n",
    "\n",
    "def multiplication(a:int,b:int):\n",
    "    return a*b\n",
    "\n",
    "def divide(a:int,b:int):\n",
    "    return a/b\n",
    "\n",
    "def subtraction(a:int,b:int):\n",
    "    return a-b\n",
    "\n",
    "def power(a:int,b:int):\n",
    "    return a**b\n",
    "\n",
    "llm_with_tools=model.bind_tools([addition,multiplication,divide,subtraction,power])\n",
    "\n",
    "# testing \n",
    "output = llm_with_tools.invoke(\"what is the value of 2 added with 5 then the result is multiplied by 3\")\n",
    "# print(output)\n",
    "print(output.tool_calls)"
   ]
  },
  {
   "cell_type": "code",
   "execution_count": 11,
   "metadata": {},
   "outputs": [],
   "source": [
    "# jokes example \n",
    "# step 1 - defining graph state\n",
    "from typing_extensions import TypedDict\n",
    "\n",
    "class graph_state(TypedDict):\n",
    "    topic : str\n",
    "    joke : str\n",
    "    improved_joke : str\n",
    "    final_joke : str"
   ]
  },
  {
   "cell_type": "code",
   "execution_count": 13,
   "metadata": {},
   "outputs": [],
   "source": [
    "# step -2 building the graph elements\n",
    "#nodes\n",
    "def generate_joke(state:graph_state):\n",
    "    msg=model.invoke(f\"tell me a joke about {state['topic']}\")\n",
    "    return {'joke':msg.content}\n",
    "\n",
    "def improve_joke(state:graph_state):\n",
    "    msg=model.invoke(f\"improve the joke {state['joke']}\")\n",
    "    return {'improved_joke':msg.content}\n",
    "\n",
    "def finalize_joke(state:graph_state):\n",
    "    msg=model.invoke(f\"finalize the joke {state['improved_joke']}\")\n",
    "    return {'final_joke':msg.content}\n",
    "\n",
    "#coditional_node\n",
    "def check_punchline(state:graph_state):\n",
    "    # 'this is called a conditional node / gate'\n",
    "    if \"?\" in state[\"joke\"] or \"!\" in state[\"joke\"]:\n",
    "        return \"Pass\"\n",
    "    else:\n",
    "        return \"Fail\""
   ]
  },
  {
   "cell_type": "code",
   "execution_count": 14,
   "metadata": {},
   "outputs": [
    {
     "data": {
      "image/png": "[encoded data removed]",
      "text/plain": [
       "<IPython.core.display.Image object>"
      ]
     },
     "metadata": {},
     "output_type": "display_data"
    }
   ],
   "source": [
    "# Step 3 - Building the workflow using langgraph\n",
    "from langgraph.graph import StateGraph,START,END \n",
    "from IPython.display import Image,display\n",
    "\n",
    "workflow = StateGraph(graph_state)\n",
    "workflow.add_node(\"generate_joke\",generate_joke)\n",
    "workflow.add_node(\"improve_joke\",improve_joke)\n",
    "workflow.add_node(\"finalize_joke\",finalize_joke)\n",
    "\n",
    "workflow.add_edge(START,\"generate_joke\")\n",
    "# workflow.add_conditional_edge(\"generate_joke\",check_punchline,{\"Pass\":\"improve_joke\",\"Fail\":END})\n",
    "workflow.add_edge(\"improve_joke\",\"finalize_joke\")\n",
    "workflow.add_edge(\"finalize_joke\",END)\n",
    "\n",
    "chain = workflow.compile()\n",
    "\n",
    "display(Image(chain.get_graph().draw_mermaid_png()))"
   ]
  },
  {
   "cell_type": "code",
   "execution_count": 15,
   "metadata": {},
   "outputs": [
    {
     "name": "stdout",
     "output_type": "stream",
     "text": [
      "initial joke Sure, here's a joke about an elephant:\n",
      "\n",
      "Why don’t elephants use computers?\n",
      "\n",
      "Because they’re afraid of the mouse!\n",
      "Failed at conditional node\n"
     ]
    }
   ],
   "source": [
    "# step 4 - executing the workflow\n",
    "state=chain.invoke({\"topic\":\"elephant\"})\n",
    "print(\"initial joke\",state['joke'])\n",
    "if 'improved_joke' in state:\n",
    "    print(\"improved joke\",state['improved_joke'])\n",
    "    print(\"final joke\",state['final_joke'])\n",
    "else : \n",
    "    print(\"Failed at conditional node\")\n",
    " "
   ]
  },
  {
   "cell_type": "code",
   "execution_count": 16,
   "metadata": {},
   "outputs": [],
   "source": [
    "# parallel execution in langgraph\n",
    "# when you have multiperspective for one task , multi query RAG\n",
    "\n",
    "class state(TypedDict):\n",
    "    topic:str\n",
    "    joke:str\n",
    "    peom:str\n",
    "    story:str\n",
    "    combined:str\n",
    "\n",
    "# three parallel calls and then aggregate the results\n",
    "def generate_joke(state:state):\n",
    "    msg=model.invoke(f\"tell me a joke about {state['topic']}\")\n",
    "    return {'joke':msg.content}\n",
    "\n",
    "def generate_peom(state:state):\n",
    "    msg=model.invoke(f\"tell me a peom about {state['topic']}\")\n",
    "    return {'peom':msg.content}\n",
    "\n",
    "def generate_story(state:state):\n",
    "    msg=model.invoke(f\"tell me a story about {state['topic']}\")\n",
    "    return {'story':msg.content}\n",
    "\n",
    "def combine_results(state:state):\n",
    "    combined = state['joke'] + state['peom'] + state['story']\n",
    "    return {'combined':combined}\n"
   ]
  },
  {
   "cell_type": "code",
   "execution_count": 18,
   "metadata": {},
   "outputs": [
    {
     "data": {
      "image/png": "[encoded data removed]",
      "text/plain": [
       "<IPython.core.display.Image object>"
      ]
     },
     "metadata": {},
     "output_type": "display_data"
    }
   ],
   "source": [
    "parrallel_workflow = StateGraph(state)\n",
    "parrallel_workflow.add_node(\"generate_joke\",generate_joke)\n",
    "parrallel_workflow.add_node(\"generate_peom\",generate_peom)\n",
    "parrallel_workflow.add_node(\"generate_story\",generate_story)\n",
    "parrallel_workflow.add_node(\"combine_results\",combine_results)\n",
    "\n",
    "parrallel_workflow.add_edge(START,\"generate_joke\")\n",
    "parrallel_workflow.add_edge(START,\"generate_peom\")\n",
    "parrallel_workflow.add_edge(START,\"generate_story\")\n",
    "\n",
    "parrallel_workflow.add_edge(\"generate_joke\",\"combine_results\")\n",
    "parrallel_workflow.add_edge(\"generate_peom\",\"combine_results\")\n",
    "parrallel_workflow.add_edge(\"generate_story\",\"combine_results\")\n",
    "\n",
    "parrallel_workflow.add_edge(\"combine_results\",END)\n",
    "\n",
    "parrallel_chain = parrallel_workflow.compile()\n",
    "\n",
    "display(Image(parrallel_chain.get_graph().draw_mermaid_png()))"
   ]
  },
  {
   "cell_type": "code",
   "execution_count": 19,
   "metadata": {},
   "outputs": [
    {
     "name": "stdout",
     "output_type": "stream",
     "text": [
      "combined Sure! Here's one for you:\n",
      "\n",
      "Why don't elephants use computers?\n",
      "\n",
      "Because they're afraid of the mouse!In the lush, green cradle where the sun softly beams,  \n",
      "Roams the gentle giant of our dreams.  \n",
      "With a hide of gray and wisdom in its eyes,  \n",
      "The mighty elephant treads beneath vast skies.  \n",
      "\n",
      "Ears like sails unfurled catch whispers of the breeze,  \n",
      "A symphony of savannahs, rustling leaves on trees.  \n",
      "Trunk sways like a pendulum, fluid and alive,  \n",
      "In this ancient dance, it's evolution's archive.  \n",
      "\n",
      "Tusks as white as ivory, arches of the earth,  \n",
      "Carved by time and history, symbols of their worth.  \n",
      "They tell tales of ages, of lands trekked and seen,  \n",
      "Of waterholes discovered in lands lush and lean.  \n",
      "\n",
      "Oh, architects of passage, gentle titans roam,  \n",
      "They carve through the wilderness, their kitchen, their home.  \n",
      "Their footsteps echo thunder, a rhythmic, slow parade,  \n",
      "In the quiet of the night, their majesty displayed.  \n",
      "\n",
      "Matriarchs lead with patience, wisdom running deep,  \n",
      "Guiding calves through grasslands, where shadows softly leap.  \n",
      "In their eyes, reflections of a world we’ve yet to know,  \n",
      "A tapestry of life in their steady, gentle flow.  \n",
      "\n",
      "So let us treasure these giants with reverence and grace,  \n",
      "For in their existence, we find a tranquil space.  \n",
      "In the dance of the elephant, mighty and serene,  \n",
      "Lies the heart of the wild, forever keen.  Once upon a time, in the lush, green heart of a sprawling jungle, there lived a wise elephant named Elara. Elara was known far and wide for her gentle nature and incredible memory. Her skin was the color of stormy clouds, and her eyes, deep and kind, seemed to hold the secrets of the world.\n",
      "\n",
      "The jungle was a buzzing tapestry of life. Monkeys chattered and swung through the canopy, colorful birds flitted from tree to tree, and the river sang a burbling tune as it wound its way through the forest. Yet, despite the vibrant energy surrounding her, Elara’s soul felt heavy. She sensed a change in the air – a whispering hint of discord festering beneath the jungle’s harmonious surface.\n",
      "\n",
      "One day, as Elara ambled through her favorite grove of baobabs, she overheard a heated argument among a group of animals. It was an unusual sight to witness. The normally peaceful deer were in a furor with the flamboyant parrots, and the squirrels chattered anxiously, caught in the middle of the squabble.\n",
      "\n",
      "Curious, Elara drew near and gently inquired, \"What troubles you, my friends?\"\n",
      "\n",
      "The leader of the parrots, a bright green bird named Paru, fluttered his wings in agitation. \"Elara, our homes are being destroyed by the deer! They eat the leaves we need for shelter.\"\n",
      "\n",
      "At that, the deer leader, Daman, stomped his hooves. \"We only eat to survive! We mean no harm, but we find our usual grazing lands are becoming scarce.\"\n",
      "\n",
      "A thoughtful hush fell over the gathering as Elara pondered the situation. For many years, the elephants had maintained a secret grove, a verdant oasis rich with fruit and foliage. The elders had always cautioned against revealing this spot, fearing it would be overrun. But Elara knew the grove could provide for all if shared wisely.\n",
      "\n",
      "Taking a deep breath, Elara said, \"I believe there is a way for us all to thrive together. Follow me.\"\n",
      "\n",
      "With curiosity piqued, the animals followed Elara to the secret grove. As they arrived, they were awestruck by the abundance before them. Lush trees bore fruits of every kind, and the grass seemed richer and greener than any they had ever seen.\n",
      "\n",
      "\"I offer this place for all creatures,\" declared Elara. \"Let us gather seeds and replant them in parts of the jungle that have become barren. If we work together, this can be a land of plenty for us all.\"\n",
      "\n",
      "Overwhelmed by Elara’s generosity and wisdom, the animals quickly agreed. They organized themselves into teams, each group taking responsibility for cultivating different areas of the jungle. The parrots flew far and wide, distributing seeds from the sky, while the deer and squirrels took to the ground, planting and tending new growth.\n",
      "\n",
      "As the weeks turned into months, the jungle flourished under this newfound cooperation. Harmony returned, and the animals found plenty to eat and places to call home. The once tense relationships between the jungle’s creatures gave way to friendships and alliances, forged in their shared purpose and labor.\n",
      "\n",
      "Elara, once weighed down by the foreboding change, now watched over the thriving jungle with a lighter heart. Her wisdom and courage had not only saved her home but had also brought its residents closer together.\n",
      "\n",
      "And so, in the heart of this vibrant jungle, under the vast, open sky, the animals lived in peace, learning and growing together under the watchful and ever-caring gaze of their beloved guardian, Elara the elephant.\n"
     ]
    }
   ],
   "source": [
    "state=parrallel_chain.invoke({\"topic\":\"elephant\"})\n",
    "print(\"combined\",state['combined'])\n"
   ]
  },
  {
   "cell_type": "code",
   "execution_count": null,
   "metadata": {},
   "outputs": [],
   "source": [
    "#routing in langgraph\n"
   ]
  }
 ],
 "metadata": {
  "kernelspec": {
   "display_name": "Python 3",
   "language": "python",
   "name": "python3"
  },
  "language_info": {
   "codemirror_mode": {
    "name": "ipython",
    "version": 3
   },
   "file_extension": ".py",
   "mimetype": "text/x-python",
   "name": "python",
   "nbconvert_exporter": "python",
   "pygments_lexer": "ipython3",
   "version": "3.11.5"
  }
 },
 "nbformat": 4,
 "nbformat_minor": 2
}
