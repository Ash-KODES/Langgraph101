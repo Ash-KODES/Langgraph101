{
 "cells": [
  {
   "cell_type": "code",
   "execution_count": null,
   "metadata": {},
   "outputs": [],
   "source": [
    "! pip install langchain_core langchain_openai langgraph"
   ]
  },
  {
   "cell_type": "code",
   "execution_count": 10,
   "metadata": {},
   "outputs": [],
   "source": [
    "import os, getpass\n",
    "def set_env(key: str,env_var_name: str):\n",
    "    os.environ[env_var_name] = key\n",
    "\n",
    "api_key = getpass.getpass(\"Enter your OpenAI API Key: \")\n",
    "set_env(api_key, \"OPENAI_API_KEY\")"
   ]
  },
  {
   "cell_type": "code",
   "execution_count": 20,
   "metadata": {},
   "outputs": [],
   "source": [
    "#configuring llm\n",
    "from langchain_openai import ChatOpenAI\n",
    "model = ChatOpenAI(model='gpt-4o-2024-08-06', api_key=api_key)"
   ]
  },
  {
   "cell_type": "code",
   "execution_count": 20,
   "metadata": {},
   "outputs": [
    {
     "name": "stdout",
     "output_type": "stream",
     "text": [
      "query='(2 + 5) * 3' justification=\"To find the value of the given expression, we first perform the addition inside the parentheses and then multiply the result by 3.\\\\n\\\\nLet's break down the computation step-by-step:\\\\n1. **Addition Step:**\\\\n   - Add the numbers inside the parentheses (2 + 5):\\\\n   - 2 + 5 = 7\\\\n\\\\n2. **Multiplication Step:**\\\\n   - Multiply the result from the addition by 3:\\\\n   - 7 * 3 = 21\\\\n\\\\nTherefore, the final result of the expression is 21.\"\n",
      "(2 + 5) * 3\n",
      "To find the value of the given expression, we first perform the addition inside the parentheses and then multiply the result by 3.\\n\\nLet's break down the computation step-by-step:\\n1. **Addition Step:**\\n   - Add the numbers inside the parentheses (2 + 5):\\n   - 2 + 5 = 7\\n\\n2. **Multiplication Step:**\\n   - Multiply the result from the addition by 3:\\n   - 7 * 3 = 21\\n\\nTherefore, the final result of the expression is 21.\n"
     ]
    }
   ],
   "source": [
    "#aumenting LLM : preparing the llm in the way it will be used. (example - fine tuning, structured output , system prompt etc)\n",
    "#example: I need to have structured output , i will augment the llm to return structured output\n",
    "from pydantic import BaseModel,Field\n",
    "class search_input(BaseModel):\n",
    "    query: str = Field(None,title=\"mathematical expression that will be used to search for the answer\")\n",
    "    justification: str = Field(None,title=\"justification for the answer\")\n",
    "    \n",
    "structured_llm=model.with_structured_output(search_input)\n",
    "\n",
    "output = structured_llm.invoke(\"what is the value of 2 added with 5 then the result is multiplied by 3\")\n",
    "print(output)\n",
    "print(output.query)\n",
    "print(output.justification)"
   ]
  },
  {
   "cell_type": "code",
   "execution_count": 25,
   "metadata": {},
   "outputs": [
    {
     "name": "stdout",
     "output_type": "stream",
     "text": [
      "[{'name': 'addition', 'args': {'a': 2, 'b': 5}, 'id': 'call_pxLQeVi8K7kiBXLywWOjnZDP', 'type': 'tool_call'}, {'name': 'multiplication', 'args': {'a': 7, 'b': 3}, 'id': 'call_s6osIJH2Lfzsg3RbcKgp2jyZ', 'type': 'tool_call'}]\n"
     ]
    }
   ],
   "source": [
    "def addition(a:int,b:int):\n",
    "    return a+b\n",
    "\n",
    "def multiplication(a:int,b:int):\n",
    "    return a*b\n",
    "\n",
    "def divide(a:int,b:int):\n",
    "    return a/b\n",
    "\n",
    "def subtraction(a:int,b:int):\n",
    "    return a-b\n",
    "\n",
    "def power(a:int,b:int):\n",
    "    return a**b\n",
    "\n",
    "llm_with_tools=model.bind_tools([addition,multiplication,divide,subtraction,power])\n",
    "\n",
    "# testing \n",
    "output = llm_with_tools.invoke(\"what is the value of 2 added with 5 then the result is multiplied by 3\")\n",
    "# print(output)\n",
    "print(output.tool_calls)"
   ]
  },
  {
   "cell_type": "code",
   "execution_count": 32,
   "metadata": {},
   "outputs": [],
   "source": [
    "# jokes example \n",
    "# step 1 - defining graph state\n",
    "from typing_extensions import TypedDict\n",
    "\n",
    "class graph_state(TypedDict):\n",
    "    topic : str\n",
    "    joke : str\n",
    "    improved_joke : str\n",
    "    final_joke : str"
   ]
  },
  {
   "cell_type": "code",
   "execution_count": 33,
   "metadata": {},
   "outputs": [],
   "source": [
    "# step -2 building the graph elements\n",
    "#nodes\n",
    "def generate_joke(state:graph_state):\n",
    "    msg=model.invoke(f\"tell me a joke about {state['topic']}\")\n",
    "    return {'joke':msg.content}\n",
    "\n",
    "def improve_joke(state:graph_state):\n",
    "    msg=model.invoke(f\"improve the joke {state['joke']}\")\n",
    "    return {'improved_joke':msg.content}\n",
    "\n",
    "def finalize_joke(state:graph_state):\n",
    "    msg=model.invoke(f\"finalize the joke {state['improved_joke']}\")\n",
    "    return {'final_joke':msg.content}\n",
    "\n",
    "#coditional_node\n",
    "def check_punchline(state:graph_state):\n",
    "    # 'this is called a conditional node / gate'\n",
    "    if \"?\" in state[\"joke\"] or \"!\" in state[\"joke\"]:\n",
    "        return \"Pass\"\n",
    "    else:\n",
    "        return \"Fail\""
   ]
  },
  {
   "cell_type": "code",
   "execution_count": 38,
   "metadata": {},
   "outputs": [
    {
     "data": {
      "image/png": "[encoded data removed]",
      "text/plain": [
       "<IPython.core.display.Image object>"
      ]
     },
     "metadata": {},
     "output_type": "display_data"
    }
   ],
   "source": [
    "# Step 3 - Building the workflow using langgraph\n",
    "from langgraph.graph import StateGraph,START,END \n",
    "from IPython.display import Image,display\n",
    "\n",
    "workflow = StateGraph(graph_state)\n",
    "workflow.add_node(\"generate_joke\",generate_joke)\n",
    "workflow.add_node(\"improve_joke\",improve_joke)\n",
    "workflow.add_node(\"finalize_joke\",finalize_joke)\n",
    "\n",
    "workflow.add_edge(START,\"generate_joke\")\n",
    "# workflow.add_conditional_edge(\"generate_joke\",check_punchline,{\"Pass\":\"improve_joke\",\"Fail\":END})\n",
    "workflow.add_edge(\"improve_joke\",\"finalize_joke\")\n",
    "workflow.add_edge(\"finalize_joke\",END)\n",
    "\n",
    "chain = workflow.compile()\n",
    "\n",
    "display(Image(chain.get_graph().draw_mermaid_png()))"
   ]
  },
  {
   "cell_type": "code",
   "execution_count": 41,
   "metadata": {},
   "outputs": [
    {
     "name": "stdout",
     "output_type": "stream",
     "text": [
      "initial joke Why don't elephants use computers?\n",
      "\n",
      "Because they're afraid of the mouse!\n",
      "Failed at conditional node\n"
     ]
    }
   ],
   "source": [
    "# step 4 - executing the workflow\n",
    "state=chain.invoke({\"topic\":\"elephant\"})\n",
    "print(\"initial joke\",state['joke'])\n",
    "if 'improved_joke' in state:\n",
    "    print(\"improved joke\",state['improved_joke'])\n",
    "    print(\"final joke\",state['final_joke'])\n",
    "else : \n",
    "    print(\"Failed at conditional node\")\n",
    " "
   ]
  },
  {
   "cell_type": "code",
   "execution_count": null,
   "metadata": {},
   "outputs": [],
   "source": []
  }
 ],
 "metadata": {
  "kernelspec": {
   "display_name": "Python 3",
   "language": "python",
   "name": "python3"
  },
  "language_info": {
   "codemirror_mode": {
    "name": "ipython",
    "version": 3
   },
   "file_extension": ".py",
   "mimetype": "text/x-python",
   "name": "python",
   "nbconvert_exporter": "python",
   "pygments_lexer": "ipython3",
   "version": "3.11.5"
  }
 },
 "nbformat": 4,
 "nbformat_minor": 2
}
